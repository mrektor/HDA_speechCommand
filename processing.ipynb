{
 "cells": [
  {
   "cell_type": "code",
   "execution_count": 1,
   "metadata": {},
   "outputs": [
    {
     "name": "stderr",
     "output_type": "stream",
     "text": [
      "Using TensorFlow backend.\n"
     ]
    }
   ],
   "source": [
    "import sys\n",
    "\n",
    "import matplotlib.pyplot as plt\n",
    "## save variables\n",
    "import pickle\n",
    "## folder names\n",
    "from glob import glob\n",
    "## standard libraries\n",
    "import numpy as np\n",
    "## division for train and test\n",
    "from sklearn.model_selection import train_test_split\n",
    "##\n",
    "from sklearn.decomposition import PCA\n",
    "from sklearn.preprocessing import normalize\n",
    "\n",
    "from keras.models import Sequential\n",
    "from keras.layers import Dense, Activation, Flatten, Convolution1D, Dropout, MaxPooling1D ,Convolution2D, MaxPooling2D\n",
    "from keras import backend as K\n",
    "K.set_image_dim_ordering('th')\n",
    "from keras.optimizers import SGD\n",
    "from keras.utils import np_utils"
   ]
  },
  {
   "cell_type": "code",
   "execution_count": 2,
   "metadata": {},
   "outputs": [],
   "source": [
    "def plotConfusionMatrix(predictions, true_labels, labels):\n",
    "    k = true_labels.shape[1]\n",
    "    n = true_labels.shape[0]\n",
    "    confusion_matrix = np.zeros((k,k))\n",
    "\n",
    "    for l in range(n):\n",
    "        decision = np.zeros(k)\n",
    "        j = np.argmax(predictions[l])\n",
    "        decision[j] = 1\n",
    "        i = np.argmax(true_labels[l])\n",
    "        confusion_matrix[i,j] +=1\n",
    "        \n",
    "    fig = plt.figure()\n",
    "    ax = fig.add_subplot(111)\n",
    "    cax = ax.matshow(confusion_matrix)\n",
    "    plt.title('Confusion matrix of the classifier')\n",
    "    fig.colorbar(cax)\n",
    "    ax.set_xticklabels([''] + labels)\n",
    "    ax.set_yticklabels([''] + labels)\n",
    "    plt.xlabel('Predicted')\n",
    "    plt.ylabel('True')\n",
    "    plt.show()\n",
    "    \n",
    "def kcenter(data, k):\n",
    "    if k == data.shape[0]:\n",
    "        return data\n",
    "    '''\n",
    "    input:\n",
    "    data = numpy ndarray of shape (n_examples, a, b, c)\n",
    "    k : integer\n",
    "\n",
    "    output:\n",
    "    data reduced -> the new shape will be (k, a, b, c)\n",
    "    '''\n",
    "\n",
    "    n_examples = data.shape[0]\n",
    "\n",
    "\n",
    "    P = np.reshape(data, (n_examples, -1))\n",
    "    P_minus_S = [p for p in P]\n",
    "    idx_rnd = np.random.randint(0, len(P)-1)\n",
    "    S = [P[idx_rnd]]\n",
    "    dist_near_center = [np.linalg.norm(P[i]-S[0]) for i in range(len(P))]\n",
    "\n",
    "    for i in range(k-1):\n",
    "        progbar(i, k-2, 50)\n",
    "        #if i%150==0 : print(\"progress: \" + str(i/(k-1)*100) + \" %\")\n",
    "        new_center_idx = max(enumerate(dist_near_center), key=lambda x: x[1])[0] # argmax operation\n",
    "        S.append(P[new_center_idx])\n",
    "\n",
    "    for j in range(len(P)):\n",
    "        if j != new_center_idx:\n",
    "            dist = np.linalg.norm(P[j]-S[-1])\n",
    "            if dist < dist_near_center[j]:\n",
    "                dist_near_center[j] = dist\n",
    "        else:\n",
    "            dist_near_center[j] = 0\n",
    "    print()\n",
    "\n",
    "    #numpy darray tranformation\n",
    "    data_vector_reduced = np.array(S)\n",
    "    #Shape back\n",
    "    dimensions = (k, data.shape[1], data.shape[2])\n",
    "    data_back = np.reshape(data_vector_reduced, dimensions)\n",
    "\n",
    "    return data_back\n",
    "\n",
    "\n",
    "def kcenter_idx(data, k):\n",
    "    if k == data.shape[0]:\n",
    "        return range(k)\n",
    "    '''\n",
    "    input:\n",
    "        data = numpy ndarray of shape (n_examples, a, b, c)\n",
    "        k : integer\n",
    "        \n",
    "    output:\n",
    "        data reduced -> the new shape will be (k, a, b, c)\n",
    "    '''\n",
    "    \n",
    "    n_examples = data.shape[0]\n",
    "    \n",
    "    \n",
    "    P = np.reshape(data, (n_examples, -1))\n",
    "    P_minus_S = [p for p in P]\n",
    "    idx_rnd = np.random.randint(0, len(P)-1)\n",
    "    center_idx = [idx_rnd]\n",
    "    S = [P[idx_rnd]]\n",
    "    dist_near_center = [np.linalg.norm(P[i]-S[0]) for i in range(len(P))]\n",
    "\n",
    "    for i in range(k-1):\n",
    "        progbar(i, k-2, 50)\n",
    "        #if i%150==0 : print(\"progress: \" + str(i/(k-1)*100) + \" %\")\n",
    "        new_center_idx = max(enumerate(dist_near_center), key=lambda x: x[1])[0] # argmax operation\n",
    "        S.append(P[new_center_idx])\n",
    "        center_idx.append(new_center_idx)\n",
    "        \n",
    "        for j in range(len(P)):\n",
    "            if j != new_center_idx:\n",
    "                dist = np.linalg.norm(P[j]-S[-1])\n",
    "                if dist < dist_near_center[j]:\n",
    "                    dist_near_center[j] = dist\n",
    "            else:\n",
    "                dist_near_center[j] = 0\n",
    "    print()\n",
    "    \n",
    "    #numpy darray tranformation\n",
    "    data_vector_reduced = np.array(S)\n",
    "    #Shape back\n",
    "    dimensions = (k, data.shape[1], data.shape[2])\n",
    "    data_back = np.reshape(data_vector_reduced, dimensions)\n",
    "    \n",
    "    return center_idx\n",
    "\n",
    "\n",
    "def progbar(curr, total, full_progbar):\n",
    "    frac = curr/total\n",
    "    filled_progbar = round(frac*full_progbar)\n",
    "    print('\\r', '='*filled_progbar + '-'*(full_progbar-filled_progbar), '[{:>7.2%}]'.format(frac), end='')\n",
    "\n",
    "def train_test_creator(dic, down_size = 1, test_size = 0.2):\n",
    "    X = []\n",
    "    Y = []\n",
    "    if type(dic)==dict:\n",
    "        length = len(dic)\n",
    "        for count, key in enumerate(dic):\n",
    "            tmp = dic[key]\n",
    "            tmp = tmp[kcenter_idx(tmp, round(tmp.shape[0]/down_size)),:,:]\n",
    "            label = np.array(count)\n",
    "            label = np.resize(label, (tmp.shape[0],1))\n",
    "            X.append(tmp)\n",
    "            Y.append(label)\n",
    "            #print(key, ' ', count)\n",
    "    else:\n",
    "        return -1\n",
    "    X = np.vstack(X)\n",
    "    Y = np.vstack(Y)\n",
    "    \n",
    "    #X = np.reshape(X, ( X.shape[0],1, X.shape[1], X.shape[2]))\n",
    "    Y = np_utils.to_categorical(Y, np.max(Y)+1)\n",
    "    \n",
    "    X_train, X_test, y_train, y_test = train_test_split(X, Y, test_size=test_size)\n",
    "    X_train = np.reshape(X_train, ( X_train.shape[0],1, X_train.shape[1], X_train.shape[2]))\n",
    "    X_test = np.reshape(X_test, ( X_test.shape[0], 1, X_test.shape[1], X_test.shape[2]))\n",
    "    return X_train, X_test, y_train, y_test "
   ]
  },
  {
   "cell_type": "code",
   "execution_count": 3,
   "metadata": {},
   "outputs": [],
   "source": [
    "#with open('variables/rawDict.pkl', 'rb') as f:  \n",
    "    #rawDict = pickle.load(f)\n",
    "with open('variables/noiseDict.pkl', 'rb') as f:  \n",
    "    noiseDict = pickle.load(f)    \n",
    "with open('variables/mfccDict.pkl', 'rb') as f:  \n",
    "    mfccDict = pickle.load(f)\n",
    "with open('variables/fbankDict.pkl', 'rb') as f:  \n",
    "    fbankDict = pickle.load(f)    \n"
   ]
  },
  {
   "cell_type": "code",
   "execution_count": 4,
   "metadata": {},
   "outputs": [],
   "source": [
    "coreKey = [\"yes\", \"no\", \"up\", \"down\", \"left\", \"right\", \"on\", \"off\", \"stop\", \"go\", \"zero\",\n",
    "           \"one\", \"two\", \"three\", \"four\", \"five\", \"six\", \"seven\", \"eight\", \"nine\"]\n",
    "\n",
    "numbers = {'one', 'two', 'three','four','five','six','seven','eight','nine'}\n",
    "words = {\"yes\", \"no\", \"up\", \"down\", \"left\", \"right\", \"on\", \"off\", \"stop\", \"go\", \"zero\"}\n",
    "X_train, X_test, y_train, y_test = train_test_creator({k: mfccDict[k] for k in mfccDict.keys() & words})"
   ]
  },
  {
   "cell_type": "code",
   "execution_count": 5,
   "metadata": {
    "scrolled": false
   },
   "outputs": [
    {
     "name": "stdout",
     "output_type": "stream",
     "text": [
      "_________________________________________________________________\n",
      "Layer (type)                 Output Shape              Param #   \n",
      "=================================================================\n",
      "conv2d_1 (Conv2D)            (None, 64, 95, 10)        1344      \n",
      "_________________________________________________________________\n",
      "max_pooling2d_1 (MaxPooling2 (None, 64, 31, 5)         0         \n",
      "_________________________________________________________________\n",
      "conv2d_2 (Conv2D)            (None, 32, 29, 4)         12320     \n",
      "_________________________________________________________________\n",
      "conv2d_3 (Conv2D)            (None, 16, 28, 3)         2064      \n",
      "_________________________________________________________________\n",
      "max_pooling2d_2 (MaxPooling2 (None, 16, 14, 1)         0         \n",
      "_________________________________________________________________\n",
      "flatten_1 (Flatten)          (None, 224)               0         \n",
      "_________________________________________________________________\n",
      "dense_1 (Dense)              (None, 50)                11250     \n",
      "_________________________________________________________________\n",
      "dropout_1 (Dropout)          (None, 50)                0         \n",
      "_________________________________________________________________\n",
      "dense_2 (Dense)              (None, 11)                561       \n",
      "=================================================================\n",
      "Total params: 27,539\n",
      "Trainable params: 27,539\n",
      "Non-trainable params: 0\n",
      "_________________________________________________________________\n"
     ]
    }
   ],
   "source": [
    "cnn = Sequential()\n",
    "\n",
    "cnn.add(Convolution2D(64, (5,4),  strides = (1,1), padding=\"valid\",  activation=\"relu\",\n",
    "                      input_shape=(1, X_train.shape[2], X_train.shape[3])))\n",
    "\n",
    "cnn.add(MaxPooling2D(pool_size=(3,2)))\n",
    "\n",
    "cnn.add(Convolution2D(32, (3,2),  strides = (1,1), padding=\"valid\", activation=\"relu\"))\n",
    "#cnn.add(MaxPooling2D(pool_size=(2,2)))\n",
    "      \n",
    "cnn.add(Convolution2D(16, (2,2),  strides = (1,1), padding=\"valid\", activation=\"relu\"))\n",
    "cnn.add(MaxPooling2D(pool_size=(2,2)))\n",
    "\n",
    "cnn.add(Flatten())\n",
    "\n",
    "cnn.add(Dense(50, activation=\"relu\"))\n",
    "cnn.add(Dropout(0.35))\n",
    "\n",
    "#cnn.add(Dense(30, activation=\"sigmoid\"))\n",
    "#cnn.add(Dropout(0.35))\n",
    "\n",
    "cnn.add(Dense(y_train.shape[1], activation=\"softmax\"))\n",
    "\n",
    "# define optimizer and objective, compile cnn\n",
    "\n",
    "cnn.compile(loss=\"categorical_crossentropy\", optimizer=\"sgd\", metrics=['accuracy'])\n",
    "cnn.summary()"
   ]
  },
  {
   "cell_type": "code",
   "execution_count": null,
   "metadata": {
    "scrolled": true
   },
   "outputs": [
    {
     "name": "stdout",
     "output_type": "stream",
     "text": [
      "Train on 20846 samples, validate on 5212 samples\n",
      "Epoch 1/30\n"
     ]
    }
   ],
   "source": [
    "epoch = 30\n",
    "cnn.compile(loss=\"categorical_crossentropy\", optimizer=\"adam\", metrics=['accuracy'])\n",
    "cnn.fit(X_train, y_train, epochs=epoch, validation_data=(X_test, y_test), batch_size=round(X_train.shape[0]/250))"
   ]
  },
  {
   "cell_type": "code",
   "execution_count": 66,
   "metadata": {
    "scrolled": false
   },
   "outputs": [
    {
     "data": {
      "image/png": "[encoded data removed]",
      "text/plain": [
       "<matplotlib.figure.Figure at 0x13eff8096a0>"
      ]
     },
     "metadata": {},
     "output_type": "display_data"
    },
    {
     "name": "stdout",
     "output_type": "stream",
     "text": [
      "948/948 [==============================] - 0s 107us/step\n"
     ]
    },
    {
     "data": {
      "text/plain": [
       "[1.9623162585471752, 0.3765822782295163]"
      ]
     },
     "execution_count": 66,
     "metadata": {},
     "output_type": "execute_result"
    }
   ],
   "source": [
    "preds = cnn.predict(X_test)\n",
    "plotConfusionMatrix(preds,y_test,list(toFit))\n",
    "cnn.evaluate(X_test,y_test)"
   ]
  },
  {
   "cell_type": "code",
   "execution_count": null,
   "metadata": {},
   "outputs": [],
   "source": []
  }
 ],
 "metadata": {
  "kernelspec": {
   "display_name": "Python 3",
   "language": "python",
   "name": "python3"
  },
  "language_info": {
   "codemirror_mode": {
    "name": "ipython",
    "version": 3
   },
   "file_extension": ".py",
   "mimetype": "text/x-python",
   "name": "python",
   "nbconvert_exporter": "python",
   "pygments_lexer": "ipython3",
   "version": "3.6.4"
  }
 },
 "nbformat": 4,
 "nbformat_minor": 2
}
