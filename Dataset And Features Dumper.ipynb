{
 "cells": [
  {
   "cell_type": "code",
   "execution_count": 1,
   "metadata": {},
   "outputs": [],
   "source": [
    "import sys\n",
    "## save variables\n",
    "import pickle\n",
    "## folder names\n",
    "from glob import glob\n",
    "## wav import\n",
    "from scipy.io import wavfile \n",
    "## standard libraries\n",
    "import numpy as np\n",
    "## MFCC\n",
    "#!{sys.executable} -m pip install msgpack --user\n",
    "#!{sys.executable} -m pip install python_speech_features --user\n",
    "\n",
    "from python_speech_features import mfcc\n",
    "from python_speech_features import logfbank\n",
    "from python_speech_features import delta\n",
    "\n",
    "import random as rnd\n",
    "import os.path\n",
    "import tarfile\n",
    "\n",
    "from six.moves import urllib\n",
    "\n",
    "import matplotlib.pyplot as plt\n",
    "%matplotlib notebook\n",
    "%matplotlib notebook\n",
    "from scipy import signal\n",
    "from scipy.io import wavfile\n",
    "\n",
    "\n",
    "#!{sys.executable} -m pip install opencv-python --user\n",
    "#!{sys.executable} -m pip install opencv-contrib-python --user\n",
    "#import cv2\n",
    "#garbage collector\n",
    "import gc\n",
    "#OS detection\n",
    "import platform"
   ]
  },
  {
   "cell_type": "code",
   "execution_count": 2,
   "metadata": {},
   "outputs": [],
   "source": [
    "#make variables directory if not present\n",
    "dest_directory = 'variables/'\n",
    "if not os.path.exists(dest_directory):\n",
    "      os.makedirs(dest_directory)\n",
    "\n",
    "        #data url from which download the dataset      \n",
    "data_url = 'http://download.tensorflow.org/data/speech_commands_v0.02.tar.gz'\n",
    "\n",
    "#make dataset directory if not present\n",
    "dest_directory = 'dataset/'\n",
    "if not os.path.exists(dest_directory):\n",
    "      os.makedirs(dest_directory)\n",
    "\n",
    "#select the last part of the dataurl (the file name)      \n",
    "filename = data_url.split('/')[-1]\n",
    "filepath = os.path.join(dest_directory, filename)\n",
    "\n",
    "#program the download and extraction if the file doesn't exists\n",
    "if not os.path.exists(filepath):\n",
    "    def progress(count, block_size, total_size):\n",
    "        sys.stdout.write(\n",
    "            '\\r>> Downloading %s %.1f%%' %\n",
    "            (filename, float(count * block_size) / float(total_size) * 100.0))\n",
    "        sys.stdout.flush()\n",
    "    try:\n",
    "        filepath, _ = urllib.request.urlretrieve(data_url, filepath, progress)\n",
    "    except:\n",
    "        print(Error)\n",
    "        \n",
    "    tarfile.open(filepath, 'r:gz').extractall(dest_directory)"
   ]
  },
  {
   "cell_type": "code",
   "execution_count": 3,
   "metadata": {},
   "outputs": [],
   "source": [
    "## Return the word between two string starting from left\n",
    "def find_between( s, first, last ):\n",
    "    try:\n",
    "        start = s.index( first ) + len( first )\n",
    "        end = s.index( last, start )\n",
    "        return s[start:end]\n",
    "    except ValueError:\n",
    "        return \"\""
   ]
  },
  {
   "cell_type": "code",
   "execution_count": 4,
   "metadata": {},
   "outputs": [],
   "source": [
    "coreKey = [\"Yes\", \"No\", \"Up\", \"Down\", \"Left\", \"Right\", \"On\", \"Off\", \"Stop\", \"Go\", \"Zero\",\n",
    "           \"One\", \"Two\", \"Three\", \"Four\", \"Five\", \"Six\", \"Seven\", \"Eight\", \"Nine\"]\n",
    "sampleRate = 16000"
   ]
  },
  {
   "cell_type": "code",
   "execution_count": 5,
   "metadata": {
    "scrolled": false
   },
   "outputs": [
    {
     "name": "stdout",
     "output_type": "stream",
     "text": [
      "rawDict found\n",
      "rawDict loaded\n",
      "\n",
      "NOISE\n",
      "Processing  dataset/_background_noise_\\doing_the_dishes.wav\n",
      "Processing  dataset/_background_noise_\\dude_miaowing.wav\n",
      "Processing  dataset/_background_noise_\\exercise_bike.wav\n",
      "Processing  dataset/_background_noise_\\pink_noise.wav\n",
      "Processing  dataset/_background_noise_\\running_tap.wav\n",
      "Processing  dataset/_background_noise_\\white_noise.wav\n",
      "noiseDict created and saved to variables/noiseDict.pkl\n"
     ]
    },
    {
     "name": "stderr",
     "output_type": "stream",
     "text": [
      "C:\\Users\\yurin\\Anaconda3\\lib\\site-packages\\scipy\\io\\wavfile.py:273: WavFileWarning: Chunk (non-data) not understood, skipping it.\n",
      "  WavFileWarning)\n"
     ]
    }
   ],
   "source": [
    "#control if the raw data are saved with pickle\n",
    "#if true they will be loaded in rawDict\n",
    "reDo = False\n",
    "if os.path.exists('variables/rawDict.pkl') and not reDo:\n",
    "    print('rawDict found')\n",
    "    with open('variables/rawDict.pkl', 'rb') as f:  \n",
    "        rawDict = pickle.load(f)\n",
    "    print('rawDict loaded')\n",
    "\n",
    "#else they will be loaded from wav files\n",
    "else:\n",
    "    print('Creating rawDict')\n",
    "    folders = glob(\"dataset/*/\")\n",
    "    folders.remove('dataset\\\\_background_noise_\\\\')\n",
    "    print('SIGNALS')\n",
    "    rawDict = {}\n",
    "    for key in folders:\n",
    "        print('Processing ', key)\n",
    "        dictKey = find_between( key, '\\\\', '\\\\' )\n",
    "        tmpFiles = glob(key+'*')\n",
    "        array = []\n",
    "        for file in tmpFiles:\n",
    "            tmp = wavfile.read(file)[1].copy()\n",
    "            tmp.resize(16000, refcheck=False)\n",
    "            array.append(tmp)\n",
    "        rawDict[dictKey] = np.array(array)\n",
    "    #and saved with pickle\n",
    "    with open('variables/rawDict.pkl', 'wb') as f:  \n",
    "        pickle.dump(rawDict, f)\n",
    "    print('rawDict created and saved to variables/rawDict.pkl')\n",
    "reDo = True\n",
    "#the same with noise signals\n",
    "if not os.path.exists('variables/noiseDict.pkl') or reDo:    \n",
    "    print('\\nNOISE')\n",
    "    noiseDict = {}\n",
    "    folders = glob('dataset/_background_noise_/*.wav')\n",
    "    for key in folders:\n",
    "        print('Processing ', key)\n",
    "        noiseDict[key[key.rindex('/')+1:len(key)]] = wavfile.read(key)[1]\n",
    "    with open('variables/noiseDict.pkl', 'wb') as f:  \n",
    "        pickle.dump(noiseDict, f) \n",
    "    print('noiseDict created and saved to variables/noiseDict.pkl')\n",
    "else:\n",
    "    print('noiseDict found')\n",
    "    with open('variables/noiseDict.pkl', 'rb') as f:  \n",
    "        noiseDict = pickle.load(f)\n",
    "    print('noiseDict loaded')"
   ]
  },
  {
   "cell_type": "markdown",
   "metadata": {},
   "source": [
    "# Shift"
   ]
  },
  {
   "cell_type": "code",
   "execution_count": 9,
   "metadata": {},
   "outputs": [],
   "source": [
    "def shiftVec(signal, value):\n",
    "    initial_length = signal.shape[0]\n",
    "    padded = np.pad(signal, (abs(value),abs(value)), 'constant', constant_values=0)\n",
    "    signal = padded[abs(value)-value:abs(value)+initial_length-value]\n",
    "    return signal"
   ]
  },
  {
   "cell_type": "code",
   "execution_count": 10,
   "metadata": {},
   "outputs": [],
   "source": [
    "shift_percentage = 0.1\n",
    "time_shift_max = 100 #[ms]\n",
    "sample_shift_max = round(time_shift_max / 1000 * sampleRate)\n",
    "tot_samples = 0\n",
    "for key in rawDict:\n",
    "    length = rawDict[key].shape[0]\n",
    "    tot_samples+=length\n",
    "    toShift = round(length*shift_percentage)\n",
    "    for i in rnd.sample(range(length),toShift):\n",
    "        shift = rnd.randint(-sample_shift_max, sample_shift_max)\n",
    "        rawDict[key][i] = shiftVec(rawDict[key][i],shift)        "
   ]
  },
  {
   "cell_type": "markdown",
   "metadata": {},
   "source": [
    "# Noise"
   ]
  },
  {
   "cell_type": "code",
   "execution_count": 6,
   "metadata": {},
   "outputs": [],
   "source": [
    "def noiseSelector(noise, nSample):\n",
    "    length = len(noise)\n",
    "    choice = rnd.randint(0, length-1)\n",
    "    key = list(noise.keys())[choice]\n",
    "    start = rnd.randint(0, noise[key].shape[0]-nSample-1)\n",
    "    return noise[key][start:start+nSample]"
   ]
  },
  {
   "cell_type": "code",
   "execution_count": 7,
   "metadata": {},
   "outputs": [],
   "source": [
    "rnd.seed(1)\n",
    "noise_percentage = 0.1 \n",
    "for key in rawDict:\n",
    "    length = rawDict[key].shape[0]\n",
    "    toNoise = round(length*noise_percentage)\n",
    "    for i in rnd.sample(range(length),toNoise):\n",
    "        noise = noiseSelector(noiseDict, 16000)\n",
    "        rawDict[key][i] += np.array(np.round(np.random.uniform() * noise),dtype='int16')"
   ]
  },
  {
   "cell_type": "markdown",
   "metadata": {},
   "source": [
    "# Silence creation"
   ]
  },
  {
   "cell_type": "code",
   "execution_count": 10,
   "metadata": {},
   "outputs": [],
   "source": [
    "key = 'silence'\n",
    "silence_percentage = 0.05\n",
    "max_noise_sound = 0.2\n",
    "#silence_max = round(tot_samples*silence_percentage)\n",
    "silence_max = 4000\n",
    "values = []\n",
    "for i in range(silence_max):\n",
    "    noise = noiseSelector(noiseDict, 16000)\n",
    "    sig = noise * np.random.uniform(high = max_noise_sound)\n",
    "    values.append(sig)\n",
    "values = np.array(values)\n",
    "rawDict[key]=values"
   ]
  },
  {
   "cell_type": "code",
   "execution_count": 11,
   "metadata": {},
   "outputs": [],
   "source": [
    "values = [[14,26,0.025,0.01,512]]"
   ]
  },
  {
   "cell_type": "markdown",
   "metadata": {},
   "source": [
    "# MFCC"
   ]
  },
  {
   "cell_type": "markdown",
   "metadata": {},
   "source": [
    "\\begin{verbatim}\n",
    "Parameter         Description\n",
    "signal \t          the audio signal from which to compute features. Should be an N*1 array\n",
    "samplerate \t      the samplerate of the signal we are working with.\n",
    "winlen \t          the length of the analysis window in seconds. Default is 0.025s (25 milliseconds)\n",
    "winstep \t      the step between successive windows in seconds. Default is 0.01s (10 milliseconds)\n",
    "numcep \t          the number of cepstrum to return, default 13\n",
    "nfilt \t          the number of filters in the filterbank, default 26.\n",
    "nfft \t          the FFT size. Default is 512\n",
    "lowfreq \t      lowest band edge of mel filters. In Hz, default is 0\n",
    "highfreq \t      highest band edge of mel filters. In Hz, default is samplerate/2\\\\\n",
    "preemph \t      apply preemphasis filter with preemph as coefficient. 0 is no filter. Default is 0.97\\\\\n",
    "ceplifter \t      apply a lifter to final cepstral coefficients. 0 is no lifter. Default is 22\\\\\n",
    "appendEnergy \t  if this is true, the zeroth cepstral coefficient is replaced with the log of the total frame energy.\\\\\n",
    "returns \t      A numpy array of size (NUMFRAMES by numcep) containing features. Each row holds 1 feature vector.\\\\\n",
    "\\end{verbatim}"
   ]
  },
  {
   "cell_type": "code",
   "execution_count": 12,
   "metadata": {},
   "outputs": [],
   "source": [
    "def computeMFCC(data, output, i, sampleRate = 16000):\n",
    "    for sig in data:\n",
    "        mfcc_feat = mfcc(sig,sampleRate, numcep = i[0], nfilt = i[1], winlen = i[2], winstep = i[3], nfft = i[4], lowfreq=100, highfreq=4000)\n",
    "        output.append(mfcc_feat)\n",
    "def computeLogF(data, output, i, sampleRate = 16000):\n",
    "    for sig in data:\n",
    "        lfilt_feat = logfbank(sig,sampleRate, nfilt = i[1], winlen = i[2], winstep = i[3], nfft = i[4], lowfreq=100, highfreq=4000)\n",
    "        output.append(lfilt_feat)\n",
    "def computeDelta(mfccValues, N = 2):\n",
    "    temp = []\n",
    "    for count, _ in enumerate(mfccValues):\n",
    "        delt = delta(mfccValues[count], N)\n",
    "        temp.append(delt)\n",
    "    return temp\n",
    "        "
   ]
  },
  {
   "cell_type": "code",
   "execution_count": 13,
   "metadata": {
    "scrolled": true
   },
   "outputs": [
    {
     "name": "stdout",
     "output_type": "stream",
     "text": [
      "\n",
      "variables/mfccDict[nC=14 wL=0.025 wS=0.01].pkl not found\n",
      "Processing  backward  ( 1 / 36 )\n",
      "Processing  bed  ( 2 / 36 )\n",
      "Processing  bird  ( 3 / 36 )\n",
      "Processing  cat  ( 4 / 36 )\n",
      "Processing  dog  ( 5 / 36 )\n",
      "Processing  down  ( 6 / 36 )\n",
      "Processing  eight  ( 7 / 36 )\n",
      "Processing  five  ( 8 / 36 )\n",
      "Processing  follow  ( 9 / 36 )\n",
      "Processing  forward  ( 10 / 36 )\n",
      "Processing  four  ( 11 / 36 )\n",
      "Processing  go  ( 12 / 36 )\n",
      "Processing  happy  ( 13 / 36 )\n",
      "Processing  house  ( 14 / 36 )\n",
      "Processing  learn  ( 15 / 36 )\n",
      "Processing  left  ( 16 / 36 )\n",
      "Processing  marvin  ( 17 / 36 )\n",
      "Processing  nine  ( 18 / 36 )\n",
      "Processing  no  ( 19 / 36 )\n",
      "Processing  off  ( 20 / 36 )\n",
      "Processing  on  ( 21 / 36 )\n",
      "Processing  one  ( 22 / 36 )\n",
      "Processing  right  ( 23 / 36 )\n",
      "Processing  seven  ( 24 / 36 )\n",
      "Processing  sheila  ( 25 / 36 )\n",
      "Processing  six  ( 26 / 36 )\n",
      "Processing  stop  ( 27 / 36 )\n",
      "Processing  three  ( 28 / 36 )\n",
      "Processing  tree  ( 29 / 36 )\n",
      "Processing  two  ( 30 / 36 )\n",
      "Processing  up  ( 31 / 36 )\n",
      "Processing  visual  ( 32 / 36 )\n",
      "Processing  wow  ( 33 / 36 )\n",
      "Processing  yes  ( 34 / 36 )\n",
      "Processing  zero  ( 35 / 36 )\n",
      "Processing  silence  ( 36 / 36 )\n",
      "process delta and delta-delta\n",
      "Processing  backward  ( 1 / 36 )\n",
      "Processing  bed  ( 2 / 36 )\n",
      "Processing  bird  ( 3 / 36 )\n",
      "Processing  cat  ( 4 / 36 )\n",
      "Processing  dog  ( 5 / 36 )\n",
      "Processing  down  ( 6 / 36 )\n",
      "Processing  eight  ( 7 / 36 )\n",
      "Processing  five  ( 8 / 36 )\n",
      "Processing  follow  ( 9 / 36 )\n",
      "Processing  forward  ( 10 / 36 )\n",
      "Processing  four  ( 11 / 36 )\n",
      "Processing  go  ( 12 / 36 )\n",
      "Processing  happy  ( 13 / 36 )\n",
      "Processing  house  ( 14 / 36 )\n",
      "Processing  learn  ( 15 / 36 )\n",
      "Processing  left  ( 16 / 36 )\n",
      "Processing  marvin  ( 17 / 36 )\n",
      "Processing  nine  ( 18 / 36 )\n",
      "Processing  no  ( 19 / 36 )\n",
      "Processing  off  ( 20 / 36 )\n",
      "Processing  on  ( 21 / 36 )\n",
      "Processing  one  ( 22 / 36 )\n",
      "Processing  right  ( 23 / 36 )\n",
      "Processing  seven  ( 24 / 36 )\n",
      "Processing  sheila  ( 25 / 36 )\n",
      "Processing  six  ( 26 / 36 )\n",
      "Processing  stop  ( 27 / 36 )\n",
      "Processing  three  ( 28 / 36 )\n",
      "Processing  tree  ( 29 / 36 )\n",
      "Processing  two  ( 30 / 36 )\n",
      "Processing  up  ( 31 / 36 )\n",
      "Processing  visual  ( 32 / 36 )\n",
      "Processing  wow  ( 33 / 36 )\n",
      "Processing  yes  ( 34 / 36 )\n",
      "Processing  zero  ( 35 / 36 )\n",
      "Processing  silence  ( 36 / 36 )\n"
     ]
    },
    {
     "name": "stderr",
     "output_type": "stream",
     "text": [
      "Clipping input data to the valid range for imshow with RGB data ([0..1] for floats or [0..255] for integers).\n"
     ]
    },
    {
     "data": {
      "image/png": "[encoded data removed]",
      "text/plain": [
       "<Figure size 720x216 with 1 Axes>"
      ]
     },
     "metadata": {},
     "output_type": "display_data"
    },
    {
     "name": "stdout",
     "output_type": "stream",
     "text": [
      "Wall time: 4min 54s\n"
     ]
    }
   ],
   "source": [
    "%%time\n",
    "# list with mfcc parameters in order: [numcep, nfilt, winlen, winstep]\n",
    "values = [[14,26,0.025,0.01,512]]\n",
    "with open('variables/mfccValues.pkl', 'wb') as f:  \n",
    "    pickle.dump(values, f)\n",
    "reDo = True\n",
    "\n",
    "plt.figure(2,figsize=(10,3))\n",
    "#look for the already computed mfcc\n",
    "for count, i in enumerate(values):\n",
    "    name = 'variables/mfccDict[nC='+str(i[0])+' wL='+str(i[2])+' wS='+str(i[3])+'].pkl'\n",
    "    if os.path.exists(name) and not reDo:\n",
    "        print('\\n'+name+' found')\n",
    "        with open(name, 'rb') as f:  \n",
    "            mfccDict = pickle.load(f)\n",
    "        plt.subplot(round(len(values)/2)+1, 2, count+1)\n",
    "        plt.imshow(mfccDict['one'][0], cmap='hot', interpolation='nearest')\n",
    "    else:\n",
    "        print('\\n'+name+' not found')\n",
    "        mfccDict = {}\n",
    "        for countKey, key in enumerate(rawDict):\n",
    "            print('Processing ',key, \" (\", countKey+1, \"/\", len(rawDict),\")\" )\n",
    "            array = []\n",
    "            computeMFCC(rawDict[key], array, i)            \n",
    "            mfccDict[key] = np.array(array)\n",
    "        with open('variables/mfccDict[nC='+str(i[0])+' wL='+str(i[2])+' wS='+str(i[3])+'].pkl', 'wb') as f:  \n",
    "            pickle.dump(mfccDict, f)\n",
    "        print(\"process delta and delta-delta\")\n",
    "        for countKey, key in enumerate(mfccDict):\n",
    "            print('Processing ',key, \" (\", countKey+1, \"/\", len(mfccDict),\")\" )\n",
    "            delt = np.array(computeDelta(mfccDict[key]))\n",
    "            deltdelt = np.array(computeDelta(delt))\n",
    "            mfccDict[key] = np.stack([mfccDict[key],delt,deltdelt], axis = -1)\n",
    "        with open('variables/mfcc_D_DD_Dict[nC='+str(i[0])+' wL='+str(i[2])+' wS='+str(i[3])+'].pkl', 'wb') as f:  \n",
    "            pickle.dump(mfccDict, f)\n",
    "        plt.subplot(round(len(values)/2)+1, 2, count+1)\n",
    "        plt.imshow(mfccDict['backward'][0], cmap='hot', interpolation='nearest')\n",
    "plt.show()"
   ]
  },
  {
   "cell_type": "markdown",
   "metadata": {},
   "source": [
    "# LogFilter with delta\n"
   ]
  },
  {
   "cell_type": "code",
   "execution_count": 14,
   "metadata": {
    "scrolled": false
   },
   "outputs": [
    {
     "name": "stdout",
     "output_type": "stream",
     "text": [
      "Computing variables/logfiltDict[nF=26 wL=0.025 wS=0.01].pkl\n",
      "Processing  backward  ( 1 / 36 )\n",
      "Processing  bed  ( 2 / 36 )\n",
      "Processing  bird  ( 3 / 36 )\n",
      "Processing  cat  ( 4 / 36 )\n",
      "Processing  dog  ( 5 / 36 )\n",
      "Processing  down  ( 6 / 36 )\n",
      "Processing  eight  ( 7 / 36 )\n",
      "Processing  five  ( 8 / 36 )\n",
      "Processing  follow  ( 9 / 36 )\n",
      "Processing  forward  ( 10 / 36 )\n",
      "Processing  four  ( 11 / 36 )\n",
      "Processing  go  ( 12 / 36 )\n",
      "Processing  happy  ( 13 / 36 )\n",
      "Processing  house  ( 14 / 36 )\n",
      "Processing  learn  ( 15 / 36 )\n",
      "Processing  left  ( 16 / 36 )\n",
      "Processing  marvin  ( 17 / 36 )\n",
      "Processing  nine  ( 18 / 36 )\n",
      "Processing  no  ( 19 / 36 )\n",
      "Processing  off  ( 20 / 36 )\n",
      "Processing  on  ( 21 / 36 )\n",
      "Processing  one  ( 22 / 36 )\n",
      "Processing  right  ( 23 / 36 )\n",
      "Processing  seven  ( 24 / 36 )\n",
      "Processing  sheila  ( 25 / 36 )\n",
      "Processing  six  ( 26 / 36 )\n",
      "Processing  stop  ( 27 / 36 )\n",
      "Processing  three  ( 28 / 36 )\n",
      "Processing  tree  ( 29 / 36 )\n",
      "Processing  two  ( 30 / 36 )\n",
      "Processing  up  ( 31 / 36 )\n",
      "Processing  visual  ( 32 / 36 )\n",
      "Processing  wow  ( 33 / 36 )\n",
      "Processing  yes  ( 34 / 36 )\n",
      "Processing  zero  ( 35 / 36 )\n",
      "Processing  silence  ( 36 / 36 )\n",
      "\n",
      " Processing delta and delta-delta\n",
      "Processing  backward  ( 1 / 36 )\n",
      "Processing  bed  ( 2 / 36 )\n",
      "Processing  bird  ( 3 / 36 )\n",
      "Processing  cat  ( 4 / 36 )\n",
      "Processing  dog  ( 5 / 36 )\n",
      "Processing  down  ( 6 / 36 )\n",
      "Processing  eight  ( 7 / 36 )\n",
      "Processing  five  ( 8 / 36 )\n",
      "Processing  follow  ( 9 / 36 )\n",
      "Processing  forward  ( 10 / 36 )\n",
      "Processing  four  ( 11 / 36 )\n",
      "Processing  go  ( 12 / 36 )\n",
      "Processing  happy  ( 13 / 36 )\n",
      "Processing  house  ( 14 / 36 )\n",
      "Processing  learn  ( 15 / 36 )\n",
      "Processing  left  ( 16 / 36 )\n",
      "Processing  marvin  ( 17 / 36 )\n",
      "Processing  nine  ( 18 / 36 )\n",
      "Processing  no  ( 19 / 36 )\n",
      "Processing  off  ( 20 / 36 )\n",
      "Processing  on  ( 21 / 36 )\n",
      "Processing  one  ( 22 / 36 )\n",
      "Processing  right  ( 23 / 36 )\n",
      "Processing  seven  ( 24 / 36 )\n",
      "Processing  sheila  ( 25 / 36 )\n",
      "Processing  six  ( 26 / 36 )\n",
      "Processing  stop  ( 27 / 36 )\n",
      "Processing  three  ( 28 / 36 )\n",
      "Processing  tree  ( 29 / 36 )\n",
      "Processing  two  ( 30 / 36 )\n",
      "Processing  up  ( 31 / 36 )\n",
      "Processing  visual  ( 32 / 36 )\n",
      "Processing  wow  ( 33 / 36 )\n",
      "Processing  yes  ( 34 / 36 )\n",
      "Processing  zero  ( 35 / 36 )\n",
      "Processing  silence  ( 36 / 36 )\n",
      "Wall time: 6min 59s\n"
     ]
    }
   ],
   "source": [
    "%%time\n",
    "for count, i in enumerate(values):\n",
    "    name = 'variables/logfiltDict[nF='+str(i[1])+' wL='+str(i[2])+' wS='+str(i[3])+'].pkl'\n",
    "    print('Computing '+name)\n",
    "    logFDict = {}\n",
    "    for countKey, key in enumerate(rawDict):\n",
    "        print('Processing ',key, \" (\", countKey+1, \"/\", len(rawDict),\")\" )\n",
    "        array = []\n",
    "        computeLogF(rawDict[key], array, i)            \n",
    "        logFDict[key] = np.array(array)\n",
    "    print(\"\\n Processing delta and delta-delta\")\n",
    "    for countKey, key in enumerate(logFDict):\n",
    "        print('Processing ',key, \" (\", countKey+1, \"/\", len(logFDict),\")\" )\n",
    "        delt = np.array(computeDelta(logFDict[key]))\n",
    "        deltdelt = np.array(computeDelta(delt))\n",
    "        logFDict[key] = np.stack([logFDict[key],delt,deltdelt], axis = -1)\n",
    "    with open(name, 'wb') as f:  \n",
    "        pickle.dump(logFDict, f)"
   ]
  },
  {
   "cell_type": "code",
   "execution_count": 15,
   "metadata": {},
   "outputs": [
    {
     "name": "stdout",
     "output_type": "stream",
     "text": [
      "Processing  backward  ( 1 / 36 )\n"
     ]
    },
    {
     "ename": "ValueError",
     "evalue": "could not broadcast input array from shape (26,26) into shape (50,26)",
     "output_type": "error",
     "traceback": [
      "\u001b[1;31m---------------------------------------------------------------------------\u001b[0m",
      "\u001b[1;31mValueError\u001b[0m                                Traceback (most recent call last)",
      "\u001b[1;32m<timed exec>\u001b[0m in \u001b[0;36m<module>\u001b[1;34m()\u001b[0m\n",
      "\u001b[1;31mValueError\u001b[0m: could not broadcast input array from shape (26,26) into shape (50,26)"
     ]
    }
   ],
   "source": [
    "%%time\n",
    "name = 'variables/logfiltDict[nF='+str(i[1])+' wL='+str(i[2])+' wS='+str(i[3])+'].pkl'\n",
    "with open(name, 'rb') as f:  \n",
    "        logFDict = pickle.load(f)\n",
    "\n",
    "from sklearn.decomposition import PCA\n",
    "n_components = 50\n",
    "pca = PCA(n_components=n_components)\n",
    "for countKey, key in enumerate(logFDict):\n",
    "    print('Processing ',key, \" (\", countKey+1, \"/\", len(logFDict),\")\" )\n",
    "    tempKey = []\n",
    "    for count, instance in enumerate(logFDict[key]):\n",
    "        temp = np.zeros((n_components,instance.shape[1],instance.shape[2]))\n",
    "        for dim in range(instance.shape[2]):\n",
    "            temp[:,:,dim] = np.transpose(pca.fit_transform(np.transpose(instance[:,:,dim])))\n",
    "        tempKey.append(temp)\n",
    "    logFDict[key]=np.array(tempKey)\n",
    "   \n",
    "name = 'variables/pcalogDict.pkl'\n",
    "with open(name, 'wb') as f:  \n",
    "        pickle.dump(logFDict, f)        "
   ]
  },
  {
   "cell_type": "code",
   "execution_count": 36,
   "metadata": {},
   "outputs": [
    {
     "data": {
      "text/plain": [
       "(2064, 26, 26, 3)"
      ]
     },
     "execution_count": 36,
     "metadata": {},
     "output_type": "execute_result"
    }
   ],
   "source": [
    "np.array(tempKey).shape"
   ]
  },
  {
   "cell_type": "code",
   "execution_count": null,
   "metadata": {},
   "outputs": [],
   "source": []
  }
 ],
 "metadata": {
  "kernelspec": {
   "display_name": "Python 3",
   "language": "python",
   "name": "python3"
  },
  "language_info": {
   "codemirror_mode": {
    "name": "ipython",
    "version": 3
   },
   "file_extension": ".py",
   "mimetype": "text/x-python",
   "name": "python",
   "nbconvert_exporter": "python",
   "pygments_lexer": "ipython3",
   "version": "3.6.5"
  }
 },
 "nbformat": 4,
 "nbformat_minor": 2
}
