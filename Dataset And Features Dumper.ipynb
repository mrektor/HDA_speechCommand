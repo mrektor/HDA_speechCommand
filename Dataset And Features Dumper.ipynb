{
 "cells": [
  {
   "cell_type": "code",
   "execution_count": 1,
   "metadata": {},
   "outputs": [],
   "source": [
    "## save variables\n",
    "import pickle\n",
    "## folder names\n",
    "from glob import glob\n",
    "## wav import\n",
    "from scipy.io import wavfile as readWav\n",
    "## standard libraries\n",
    "import numpy as np\n",
    "## MFCC\n",
    "from python_speech_features import mfcc\n",
    "from python_speech_features import logfbank\n",
    "import random as rnd\n",
    "import os.path\n",
    "import tarfile\n",
    "import sys\n",
    "from six.moves import urllib\n",
    "\n",
    "import matplotlib.pyplot as plt\n",
    "%matplotlib notebook\n",
    "%matplotlib notebook\n",
    "from scipy import signal\n",
    "from scipy.io import wavfile\n",
    "\n",
    "\n",
    "#!{sys.executable} -m pip install opencv-python --user\n",
    "#!{sys.executable} -m pip install opencv-contrib-python --user\n",
    "#import cv2\n",
    "#garbage collector\n",
    "import gc\n",
    "#OS detection\n",
    "import platform"
   ]
  },
  {
   "cell_type": "code",
   "execution_count": 2,
   "metadata": {},
   "outputs": [],
   "source": [
    "#make variables directory if not present\n",
    "dest_directory = 'variables/'\n",
    "if not os.path.exists(dest_directory):\n",
    "      os.makedirs(dest_directory)\n",
    "\n",
    "        #data url from which download the dataset      \n",
    "data_url = 'http://download.tensorflow.org/data/speech_commands_v0.01.tar.gz'\n",
    "\n",
    "#make dataset directory if not present\n",
    "dest_directory = 'dataset/'\n",
    "if not os.path.exists(dest_directory):\n",
    "      os.makedirs(dest_directory)\n",
    "\n",
    "#select the last part of the dataurl (the file name)      \n",
    "filename = data_url.split('/')[-1]\n",
    "filepath = os.path.join(dest_directory, filename)\n",
    "\n",
    "#program the download and extraction if the file doesn't exists\n",
    "if not os.path.exists(filepath):\n",
    "    def progress(count, block_size, total_size):\n",
    "        sys.stdout.write(\n",
    "            '\\r>> Downloading %s %.1f%%' %\n",
    "            (filename, float(count * block_size) / float(total_size) * 100.0))\n",
    "        sys.stdout.flush()\n",
    "    try:\n",
    "        filepath, _ = urllib.request.urlretrieve(data_url, filepath, progress)\n",
    "    except:\n",
    "        print(Error)\n",
    "        \n",
    "    tarfile.open(filepath, 'r:gz').extractall(dest_directory)"
   ]
  },
  {
   "cell_type": "code",
   "execution_count": 3,
   "metadata": {},
   "outputs": [],
   "source": [
    "## Return the word between two string starting from left\n",
    "def find_between( s, first, last ):\n",
    "    try:\n",
    "        start = s.index( first ) + len( first )\n",
    "        end = s.index( last, start )\n",
    "        return s[start:end]\n",
    "    except ValueError:\n",
    "        return \"\""
   ]
  },
  {
   "cell_type": "code",
   "execution_count": 4,
   "metadata": {},
   "outputs": [],
   "source": [
    "coreKey = [\"Yes\", \"No\", \"Up\", \"Down\", \"Left\", \"Right\", \"On\", \"Off\", \"Stop\", \"Go\", \"Zero\",\n",
    "           \"One\", \"Two\", \"Three\", \"Four\", \"Five\", \"Six\", \"Seven\", \"Eight\", \"Nine\"]\n",
    "sampleRate = 16000"
   ]
  },
  {
   "cell_type": "code",
   "execution_count": 5,
   "metadata": {
    "scrolled": true
   },
   "outputs": [
    {
     "name": "stdout",
     "output_type": "stream",
     "text": [
      "rawDict found\n",
      "rawDict loaded\n",
      "noiseDict found\n",
      "noiseDict loaded\n"
     ]
    }
   ],
   "source": [
    "#control if the raw data are saved with pickle\n",
    "#if true they will be loaded in rawDict\n",
    "reDo = False\n",
    "if os.path.exists('variables/rawDict.pkl') and not reDo:\n",
    "    print('rawDict found')\n",
    "    with open('variables/rawDict.pkl', 'rb') as f:  \n",
    "        rawDict = pickle.load(f)\n",
    "    print('rawDict loaded')\n",
    "#else they will be loaded from wav files\n",
    "else:\n",
    "    print('Creating rawDict')\n",
    "    folders = glob(\"dataset/*/\")\n",
    "    folders.remove('dataset\\\\_background_noise_\\\\')\n",
    "    print('SIGNALS')\n",
    "    rawDict = {}\n",
    "    for key in folders:\n",
    "        print('Processing ', key)\n",
    "        dictKey = find_between( key, '\\\\', '\\\\' )\n",
    "        tmpFiles = glob(key+'*')\n",
    "        array = []\n",
    "        for file in tmpFiles:\n",
    "            tmp = readWav.read(file)[1].copy()\n",
    "            tmp.resize(16000)\n",
    "            array.append(tmp)\n",
    "        rawDict[dictKey] = np.array(array)\n",
    "    #and saved with pickle\n",
    "    with open('variables/rawDict.pkl', 'wb') as f:  \n",
    "        pickle.dump(rawDict, f)\n",
    "    print('rawDict created and saved to variables/rawDict.pkl')\n",
    "\n",
    "#the same with noise signals\n",
    "if not os.path.exists('variables/noiseDict.pkl'):    \n",
    "    print('\\nNOISE')\n",
    "    noiseDict = {}\n",
    "    folders = glob('dataset/_background_noise_/*.wav')\n",
    "    for key in folders:\n",
    "        print('Processing ', key)\n",
    "        noiseDict[key[key.rindex('/')+1:len(key)]] = readWav.read(key)[1]\n",
    "    with open('variables/noiseDict.pkl', 'wb') as f:  \n",
    "        pickle.dump(noiseDict, f) \n",
    "    print('noiseDict created and saved to variables/noiseDict.pkl')\n",
    "else:\n",
    "    print('noiseDict found')\n",
    "    with open('variables/noiseDict.pkl', 'rb') as f:  \n",
    "        noiseDict = pickle.load(f)\n",
    "    print('noiseDict loaded')"
   ]
  },
  {
   "cell_type": "markdown",
   "metadata": {},
   "source": [
    "# Shift"
   ]
  },
  {
   "cell_type": "code",
   "execution_count": 6,
   "metadata": {},
   "outputs": [],
   "source": [
    "def shiftVec(signal, value):\n",
    "    initial_length = signal.shape[0]\n",
    "    padded = np.pad(signal, (abs(value),abs(value)), 'constant', constant_values=0)\n",
    "    signal = padded[abs(value)-value:abs(value)+initial_length-value]\n",
    "    return signal"
   ]
  },
  {
   "cell_type": "code",
   "execution_count": 7,
   "metadata": {},
   "outputs": [],
   "source": [
    "shift_percentage = 0.1\n",
    "time_shift_max = 100 #[ms]\n",
    "sample_shift_max = round(time_shift_max / 1000 * sampleRate)\n",
    "tot_samples = 0\n",
    "for key in rawDict:\n",
    "    length = rawDict[key].shape[0]\n",
    "    tot_samples+=length\n",
    "    toShift = round(length*shift_percentage)\n",
    "    for i in rnd.sample(range(length),toShift):\n",
    "        shift = rnd.randint(-sample_shift_max, sample_shift_max)\n",
    "        rawDict[key][i] = shiftVec(rawDict[key][i],shift)        "
   ]
  },
  {
   "cell_type": "markdown",
   "metadata": {},
   "source": [
    "# Noise"
   ]
  },
  {
   "cell_type": "code",
   "execution_count": 8,
   "metadata": {},
   "outputs": [],
   "source": [
    "def noiseSelector(noise, nSample):\n",
    "    length = len(noise)\n",
    "    choice = rnd.randint(0, length-1)\n",
    "    key = list(noise.keys())[choice]\n",
    "    start = rnd.randint(0, noise[key].shape[0]-nSample-1)\n",
    "    return noise[key][start:start+nSample]"
   ]
  },
  {
   "cell_type": "code",
   "execution_count": 9,
   "metadata": {},
   "outputs": [],
   "source": [
    "rnd.seed(1)\n",
    "noise_percentage = 0.1 \n",
    "for key in rawDict:\n",
    "    length = rawDict[key].shape[0]\n",
    "    toNoise = round(length*noise_percentage)\n",
    "    for i in rnd.sample(range(length),toNoise):\n",
    "        noise = noiseSelector(noiseDict, 16000)\n",
    "        rawDict[key][i] += np.array(np.round(np.random.uniform() * noise),dtype='int16')"
   ]
  },
  {
   "cell_type": "markdown",
   "metadata": {},
   "source": [
    "# Silence creation"
   ]
  },
  {
   "cell_type": "code",
   "execution_count": 10,
   "metadata": {},
   "outputs": [],
   "source": [
    "key = 'silence'\n",
    "silence_percentage = 0.1\n",
    "max_noise_sound = 0.2\n",
    "silence_max = round(tot_samples*silence_percentage)\n",
    "values = []\n",
    "for i in range(silence_max):\n",
    "    noise = noiseSelector(noiseDict, 16000)\n",
    "    sig = noise * np.random.uniform(high = max_noise_sound)\n",
    "    values.append(sig)\n",
    "values = np.array(values)\n",
    "rawDict[key]=values"
   ]
  },
  {
   "cell_type": "markdown",
   "metadata": {},
   "source": [
    "# Spectrogram"
   ]
  },
  {
   "cell_type": "code",
   "execution_count": 11,
   "metadata": {
    "scrolled": true
   },
   "outputs": [
    {
     "name": "stdout",
     "output_type": "stream",
     "text": [
      "Spectrogram features\n",
      "Processing  bed  ( 1 / 31 )\n",
      "Processing  bird  ( 2 / 31 )\n",
      "Processing  cat  ( 3 / 31 )\n",
      "Processing  dog  ( 4 / 31 )\n",
      "Processing  down  ( 5 / 31 )\n",
      "Processing  eight  ( 6 / 31 )\n",
      "Processing  five  ( 7 / 31 )\n",
      "Processing  four  ( 8 / 31 )\n",
      "Processing  go  ( 9 / 31 )\n",
      "Processing  happy  ( 10 / 31 )\n",
      "Processing  house  ( 11 / 31 )\n",
      "Processing  left  ( 12 / 31 )\n",
      "Processing  marvin  ( 13 / 31 )\n",
      "Processing  nine  ( 14 / 31 )\n",
      "Processing  no  ( 15 / 31 )\n",
      "Processing  off  ( 16 / 31 )\n",
      "Processing  on  ( 17 / 31 )\n",
      "Processing  one  ( 18 / 31 )\n",
      "Processing  right  ( 19 / 31 )\n",
      "Processing  seven  ( 20 / 31 )\n",
      "Processing  sheila  ( 21 / 31 )\n",
      "Processing  six  ( 22 / 31 )\n",
      "Processing  stop  ( 23 / 31 )\n",
      "Processing  three  ( 24 / 31 )\n",
      "Processing  tree  ( 25 / 31 )\n",
      "Processing  two  ( 26 / 31 )\n",
      "Processing  up  ( 27 / 31 )\n",
      "Processing  wow  ( 28 / 31 )\n",
      "Processing  yes  ( 29 / 31 )\n",
      "Processing  zero  ( 30 / 31 )\n",
      "Processing  silence  ( 31 / 31 )\n",
      "spectroDict created and saved to variables/spectroDict.pkl\n"
     ]
    }
   ],
   "source": [
    "#toggle to force the computation\n",
    "reDo = True\n",
    "#look for the spectrogram files\n",
    "if os.path.exists('variables/spectroDict.pkl') and not reDo:\n",
    "    print('spectroDict found')\n",
    "    with open('variables/spectroDict.pkl', 'rb') as f:  \n",
    "        spectroDict = pickle.load(f)\n",
    "    print('spectroDict loaded')\n",
    "#if not found they will be created\n",
    "else:\n",
    "    spectroDict = {}\n",
    "    print('Spectrogram features')\n",
    "    for count, key in enumerate(rawDict):\n",
    "        print('Processing ',key, \" (\", count+1, \"/\", len(rawDict),\")\")\n",
    "        array = []\n",
    "        for sig in rawDict[key]:\n",
    "            #sig.resize(16000, refcheck=False)\n",
    "            frequencies, times, spectrogram = signal.spectrogram(sig, sampleRate)\n",
    "            array.append(spectrogram)\n",
    "        spectroDict[key] = np.array(array)\n",
    "    with open('variables/spectroDict.pkl', 'wb') as f:  \n",
    "        pickle.dump(spectroDict, f)\n",
    "\n",
    "    print('spectroDict created and saved to variables/spectroDict.pkl')"
   ]
  },
  {
   "cell_type": "code",
   "execution_count": 12,
   "metadata": {},
   "outputs": [
    {
     "data": {
      "image/png": "[encoded data removed]",
      "text/plain": [
       "<matplotlib.figure.Figure at 0x1a6b927a160>"
      ]
     },
     "metadata": {},
     "output_type": "display_data"
    }
   ],
   "source": [
    "plt.figure(1)\n",
    "plt.imshow(spectroDict['one'][0], cmap='hot', interpolation='nearest')\n",
    "plt.show()"
   ]
  },
  {
   "cell_type": "markdown",
   "metadata": {},
   "source": [
    "# MFCC"
   ]
  },
  {
   "cell_type": "markdown",
   "metadata": {},
   "source": [
    "\\begin{verbatim}\n",
    "Parameter         Description\n",
    "signal \t          the audio signal from which to compute features. Should be an N*1 array\n",
    "samplerate \t      the samplerate of the signal we are working with.\n",
    "winlen \t          the length of the analysis window in seconds. Default is 0.025s (25 milliseconds)\n",
    "winstep \t      the step between successive windows in seconds. Default is 0.01s (10 milliseconds)\n",
    "numcep \t          the number of cepstrum to return, default 13\n",
    "nfilt \t          the number of filters in the filterbank, default 26.\n",
    "nfft \t          the FFT size. Default is 512\n",
    "lowfreq \t      lowest band edge of mel filters. In Hz, default is 0\n",
    "highfreq \t      highest band edge of mel filters. In Hz, default is samplerate/2\\\\\n",
    "preemph \t      apply preemphasis filter with preemph as coefficient. 0 is no filter. Default is 0.97\\\\\n",
    "ceplifter \t      apply a lifter to final cepstral coefficients. 0 is no lifter. Default is 22\\\\\n",
    "appendEnergy \t  if this is true, the zeroth cepstral coefficient is replaced with the log of the total frame energy.\\\\\n",
    "returns \t      A numpy array of size (NUMFRAMES by numcep) containing features. Each row holds 1 feature vector.\\\\\n",
    "\\end{verbatim}"
   ]
  },
  {
   "cell_type": "code",
   "execution_count": 13,
   "metadata": {
    "scrolled": false
   },
   "outputs": [
    {
     "name": "stdout",
     "output_type": "stream",
     "text": [
      "\n",
      "variables/mfccDict[nC=13 wL=0.025 wS=0.01].pkl not found\n",
      "Processing  bed  ( 1 / 31 )\n",
      "Processing  bird  ( 2 / 31 )\n",
      "Processing  cat  ( 3 / 31 )\n",
      "Processing  dog  ( 4 / 31 )\n",
      "Processing  down  ( 5 / 31 )\n",
      "Processing  eight  ( 6 / 31 )\n",
      "Processing  five  ( 7 / 31 )\n",
      "Processing  four  ( 8 / 31 )\n",
      "Processing  go  ( 9 / 31 )\n",
      "Processing  happy  ( 10 / 31 )\n",
      "Processing  house  ( 11 / 31 )\n",
      "Processing  left  ( 12 / 31 )\n",
      "Processing  marvin  ( 13 / 31 )\n",
      "Processing  nine  ( 14 / 31 )\n",
      "Processing  no  ( 15 / 31 )\n",
      "Processing  off  ( 16 / 31 )\n",
      "Processing  on  ( 17 / 31 )\n",
      "Processing  one  ( 18 / 31 )\n",
      "Processing  right  ( 19 / 31 )\n",
      "Processing  seven  ( 20 / 31 )\n",
      "Processing  sheila  ( 21 / 31 )\n",
      "Processing  six  ( 22 / 31 )\n",
      "Processing  stop  ( 23 / 31 )\n",
      "Processing  three  ( 24 / 31 )\n",
      "Processing  tree  ( 25 / 31 )\n",
      "Processing  two  ( 26 / 31 )\n",
      "Processing  up  ( 27 / 31 )\n",
      "Processing  wow  ( 28 / 31 )\n",
      "Processing  yes  ( 29 / 31 )\n",
      "Processing  zero  ( 30 / 31 )\n",
      "Processing  silence  ( 31 / 31 )\n",
      "\n",
      "variables/mfccDict[nC=15 wL=0.025 wS=0.01].pkl not found\n",
      "Processing  bed  ( 1 / 31 )\n",
      "Processing  bird  ( 2 / 31 )\n",
      "Processing  cat  ( 3 / 31 )\n",
      "Processing  dog  ( 4 / 31 )\n",
      "Processing  down  ( 5 / 31 )\n",
      "Processing  eight  ( 6 / 31 )\n",
      "Processing  five  ( 7 / 31 )\n",
      "Processing  four  ( 8 / 31 )\n",
      "Processing  go  ( 9 / 31 )\n",
      "Processing  happy  ( 10 / 31 )\n",
      "Processing  house  ( 11 / 31 )\n",
      "Processing  left  ( 12 / 31 )\n",
      "Processing  marvin  ( 13 / 31 )\n",
      "Processing  nine  ( 14 / 31 )\n",
      "Processing  no  ( 15 / 31 )\n",
      "Processing  off  ( 16 / 31 )\n",
      "Processing  on  ( 17 / 31 )\n",
      "Processing  one  ( 18 / 31 )\n",
      "Processing  right  ( 19 / 31 )\n",
      "Processing  seven  ( 20 / 31 )\n",
      "Processing  sheila  ( 21 / 31 )\n",
      "Processing  six  ( 22 / 31 )\n",
      "Processing  stop  ( 23 / 31 )\n",
      "Processing  three  ( 24 / 31 )\n",
      "Processing  tree  ( 25 / 31 )\n",
      "Processing  two  ( 26 / 31 )\n",
      "Processing  up  ( 27 / 31 )\n",
      "Processing  wow  ( 28 / 31 )\n",
      "Processing  yes  ( 29 / 31 )\n",
      "Processing  zero  ( 30 / 31 )\n",
      "Processing  silence  ( 31 / 31 )\n",
      "\n",
      "variables/mfccDict[nC=20 wL=0.025 wS=0.01].pkl not found\n",
      "Processing  bed  ( 1 / 31 )\n",
      "Processing  bird  ( 2 / 31 )\n",
      "Processing  cat  ( 3 / 31 )\n",
      "Processing  dog  ( 4 / 31 )\n",
      "Processing  down  ( 5 / 31 )\n",
      "Processing  eight  ( 6 / 31 )\n",
      "Processing  five  ( 7 / 31 )\n",
      "Processing  four  ( 8 / 31 )\n",
      "Processing  go  ( 9 / 31 )\n",
      "Processing  happy  ( 10 / 31 )\n",
      "Processing  house  ( 11 / 31 )\n",
      "Processing  left  ( 12 / 31 )\n",
      "Processing  marvin  ( 13 / 31 )\n",
      "Processing  nine  ( 14 / 31 )\n",
      "Processing  no  ( 15 / 31 )\n",
      "Processing  off  ( 16 / 31 )\n",
      "Processing  on  ( 17 / 31 )\n",
      "Processing  one  ( 18 / 31 )\n",
      "Processing  right  ( 19 / 31 )\n",
      "Processing  seven  ( 20 / 31 )\n",
      "Processing  sheila  ( 21 / 31 )\n",
      "Processing  six  ( 22 / 31 )\n",
      "Processing  stop  ( 23 / 31 )\n",
      "Processing  three  ( 24 / 31 )\n",
      "Processing  tree  ( 25 / 31 )\n",
      "Processing  two  ( 26 / 31 )\n",
      "Processing  up  ( 27 / 31 )\n",
      "Processing  wow  ( 28 / 31 )\n",
      "Processing  yes  ( 29 / 31 )\n",
      "Processing  zero  ( 30 / 31 )\n",
      "Processing  silence  ( 31 / 31 )\n"
     ]
    },
    {
     "data": {
      "image/png": "[encoded data removed]",
      "text/plain": [
       "<matplotlib.figure.Figure at 0x1a6b92c86d8>"
      ]
     },
     "metadata": {},
     "output_type": "display_data"
    }
   ],
   "source": [
    "# list with mfcc parameters in order: [numcep, nfilt, winlen, winstep]\n",
    "values = [[13,26,0.025,0.01],[15,30,0.025,0.01], [20,40,0.025,0.01]]\n",
    "with open('variables/mfccValues.pkl', 'wb') as f:  \n",
    "    pickle.dump(values, f)\n",
    "reDo = True\n",
    "\n",
    "plt.figure(2,figsize=(10,3))\n",
    "#look for the already computed mfcc\n",
    "for count, i in enumerate(values):\n",
    "    name = 'variables/mfccDict[nC='+str(i[0])+' wL='+str(i[2])+' wS='+str(i[3])+'].pkl'\n",
    "    if os.path.exists(name) and not reDo:\n",
    "        print('\\n'+name+' found')\n",
    "        with open(name, 'rb') as f:  \n",
    "            mfccDict = pickle.load(f)\n",
    "        plt.subplot(round(len(values)/2)+1, 2, count+1)\n",
    "        plt.imshow(mfccDict['one'][0], cmap='hot', interpolation='nearest')\n",
    "    else:\n",
    "        print('\\n'+name+' not found')\n",
    "        mfccDict = {}\n",
    "        for countKey, key in enumerate(rawDict):\n",
    "            print('Processing ',key, \" (\", countKey+1, \"/\", len(rawDict),\")\" )\n",
    "            array = []\n",
    "            for sig in rawDict[key]:\n",
    "                mfcc_feat = mfcc(sig,sampleRate, numcep = i[0], nfilt = i[1], winlen = i[2], winstep = i[3])\n",
    "                array.append(mfcc_feat)\n",
    "            mfccDict[key] = np.array(array)\n",
    "        with open('variables/mfccDict[nC='+str(i[0])+' wL='+str(i[2])+' wS='+str(i[3])+'].pkl', 'wb') as f:  \n",
    "            pickle.dump(mfccDict, f)\n",
    "        plt.subplot(round(len(values)/2)+1, 2, count+1)\n",
    "        plt.imshow(mfccDict['one'][0], cmap='hot', interpolation='nearest')\n",
    "plt.show()"
   ]
  },
  {
   "cell_type": "code",
   "execution_count": null,
   "metadata": {},
   "outputs": [],
   "source": []
  }
 ],
 "metadata": {
  "kernelspec": {
   "display_name": "Python 3",
   "language": "python",
   "name": "python3"
  },
  "language_info": {
   "codemirror_mode": {
    "name": "ipython",
    "version": 3
   },
   "file_extension": ".py",
   "mimetype": "text/x-python",
   "name": "python",
   "nbconvert_exporter": "python",
   "pygments_lexer": "ipython3",
   "version": "3.6.4"
  }
 },
 "nbformat": 4,
 "nbformat_minor": 2
}
