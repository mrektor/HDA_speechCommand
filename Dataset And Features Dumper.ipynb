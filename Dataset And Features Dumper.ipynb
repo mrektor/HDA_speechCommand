{
 "cells": [
  {
   "cell_type": "code",
   "execution_count": 3,
   "metadata": {},
   "outputs": [],
   "source": [
    "## save variables\n",
    "import pickle\n",
    "## folder names\n",
    "from glob import glob\n",
    "## wav import\n",
    "from scipy.io import wavfile as readWav\n",
    "## standard libraries\n",
    "import numpy as np\n",
    "## MFCC\n",
    "from python_speech_features import mfcc\n",
    "from python_speech_features import logfbank\n",
    "\n",
    "import os.path\n",
    "import tarfile\n",
    "import sys\n",
    "from six.moves import urllib\n",
    "\n",
    "import matplotlib.pyplot as plt\n",
    "%matplotlib notebook\n",
    "%matplotlib notebook\n",
    "from scipy import signal\n",
    "from scipy.io import wavfile\n",
    "\n",
    "\n",
    "#!{sys.executable} -m pip install opencv-python --user\n",
    "#!{sys.executable} -m pip install opencv-contrib-python --user\n",
    "import cv2"
   ]
  },
  {
   "cell_type": "code",
   "execution_count": 4,
   "metadata": {},
   "outputs": [],
   "source": [
    "#make variables directory if not present\n",
    "dest_directory = 'variables/'\n",
    "if not os.path.exists(dest_directory):\n",
    "      os.makedirs(dest_directory)\n",
    "\n",
    "        #data url from which download the dataset      \n",
    "data_url = 'http://download.tensorflow.org/data/speech_commands_v0.01.tar.gz'\n",
    "\n",
    "#make dataset directory if not present\n",
    "dest_directory = 'dataset/'\n",
    "if not os.path.exists(dest_directory):\n",
    "      os.makedirs(dest_directory)\n",
    "\n",
    "#select the last part of the dataurl (the file name)      \n",
    "filename = data_url.split('/')[-1]\n",
    "filepath = os.path.join(dest_directory, filename)\n",
    "\n",
    "#program the download and extraction if the file doesn't exists\n",
    "if not os.path.exists(filepath):\n",
    "    def progress(count, block_size, total_size):\n",
    "        sys.stdout.write(\n",
    "            '\\r>> Downloading %s %.1f%%' %\n",
    "            (filename, float(count * block_size) / float(total_size) * 100.0))\n",
    "        sys.stdout.flush()\n",
    "    try:\n",
    "        filepath, _ = urllib.request.urlretrieve(data_url, filepath, progress)\n",
    "    except:\n",
    "        print(Error)\n",
    "        \n",
    "    tarfile.open(filepath, 'r:gz').extractall(dest_directory)"
   ]
  },
  {
   "cell_type": "code",
   "execution_count": 5,
   "metadata": {},
   "outputs": [],
   "source": [
    "## Return the word between two string starting from left\n",
    "def find_between( s, first, last ):\n",
    "    try:\n",
    "        start = s.index( first ) + len( first )\n",
    "        end = s.index( last, start )\n",
    "        return s[start:end]\n",
    "    except ValueError:\n",
    "        return \"\""
   ]
  },
  {
   "cell_type": "code",
   "execution_count": 6,
   "metadata": {},
   "outputs": [],
   "source": [
    "coreKey = [\"Yes\", \"No\", \"Up\", \"Down\", \"Left\", \"Right\", \"On\", \"Off\", \"Stop\", \"Go\", \"Zero\",\n",
    "           \"One\", \"Two\", \"Three\", \"Four\", \"Five\", \"Six\", \"Seven\", \"Eight\", \"Nine\"]\n",
    "sampleRate = 16000"
   ]
  },
  {
   "cell_type": "code",
   "execution_count": 7,
   "metadata": {
    "scrolled": true
   },
   "outputs": [
    {
     "name": "stdout",
     "output_type": "stream",
     "text": [
      "rawDict found\n",
      "rawDict loaded\n"
     ]
    }
   ],
   "source": [
    "#control if the raw data are saved with pickle\n",
    "#if true they will be loaded in rawDict\n",
    "if os.path.exists('variables/rawDict.pkl'):\n",
    "    print('rawDict found')\n",
    "    with open('variables/rawDict.pkl', 'rb') as f:  \n",
    "        rawDict = pickle.load(f)\n",
    "    print('rawDict loaded')\n",
    "#else they will be loaded from wav files\n",
    "else:\n",
    "    print('Creating rawDict')\n",
    "    folders = glob(\"dataset/*/\")\n",
    "    folders.remove('dataset/_background_noise_/')\n",
    "    print('SIGNALS')\n",
    "    rawDict = {}\n",
    "    for key in folders:\n",
    "        print('Processing ', key)\n",
    "        dictKey = find_between( key, '/', '/' )\n",
    "        tmpFiles = glob(key+'*')\n",
    "        array = []\n",
    "        for file in tmpFiles:\n",
    "            array.append(readWav.read(file)[1].copy())\n",
    "        rawDict[dictKey] = np.array(array)\n",
    "    #and saved with pickle\n",
    "    with open('variables/rawDict.pkl', 'wb') as f:  \n",
    "        pickle.dump(rawDict, f)\n",
    "    print('rawDict created and saved to variables/rawDict.pkl')\n",
    "\n",
    "#the same with noise signals\n",
    "if not os.path.exists('variables/noiseDict.pkl'):    \n",
    "    print('\\nNOISE')\n",
    "    noiseDict = {}\n",
    "    folders = glob('dataset/_background_noise_/*.wav')\n",
    "    for key in folders:\n",
    "        print('Processing ', key)\n",
    "        noiseDict[key[key.rindex('/')+1:len(key)]] = readWav.read(key)[1]\n",
    "    with open('variables/noiseDict.pkl', 'wb') as f:  \n",
    "        pickle.dump(noiseDict, f) \n",
    "    print('noiseDict created and saved to variables/noiseDict.pkl')"
   ]
  },
  {
   "cell_type": "code",
   "execution_count": 8,
   "metadata": {
    "scrolled": true
   },
   "outputs": [
    {
     "name": "stdout",
     "output_type": "stream",
     "text": [
      "spectroDict found\n",
      "spectroDict loaded\n"
     ]
    }
   ],
   "source": [
    "#toggle to force the computation\n",
    "reDo = False\n",
    "#look for the spectrogram files\n",
    "if os.path.exists('variables/spectroDict.pkl') and not reDo:\n",
    "    print('spectroDict found')\n",
    "    with open('variables/spectroDict.pkl', 'rb') as f:  \n",
    "        spectroDict = pickle.load(f)\n",
    "    print('spectroDict loaded')\n",
    "#if not found they will be created\n",
    "else:\n",
    "    spectroDict = {}\n",
    "    print('Spectrogram features')\n",
    "    for key in rawDict:\n",
    "        print('Processing ',key)\n",
    "        array = []\n",
    "        for sig in rawDict[key]:\n",
    "            sig.resize(16000, refcheck=False)\n",
    "            frequencies, times, spectrogram = signal.spectrogram(sig, sampleRate)\n",
    "            array.append(spectrogram)\n",
    "        spectroDict[key] = np.array(array)\n",
    "    with open('variables/spectroDict.pkl', 'wb') as f:  \n",
    "        pickle.dump(spectroDict, f)\n",
    "\n",
    "    print('spectroDict created and saved to variables/spectroDict.pkl')"
   ]
  },
  {
   "cell_type": "code",
   "execution_count": 9,
   "metadata": {},
   "outputs": [
    {
     "data": {
      "image/png": "[encoded data removed]",
      "text/plain": [
       "<matplotlib.figure.Figure at 0x232c84742b0>"
      ]
     },
     "metadata": {},
     "output_type": "display_data"
    }
   ],
   "source": [
    "plt.figure(1)\n",
    "plt.imshow(spectroDict['one'][0], cmap='hot', interpolation='nearest')\n",
    "plt.show()"
   ]
  },
  {
   "cell_type": "markdown",
   "metadata": {},
   "source": [
    "\\begin{verbatim}\n",
    "Parameter         Description\n",
    "signal \t          the audio signal from which to compute features. Should be an N*1 array\n",
    "samplerate \t      the samplerate of the signal we are working with.\n",
    "winlen \t          the length of the analysis window in seconds. Default is 0.025s (25 milliseconds)\n",
    "winstep \t      the step between successive windows in seconds. Default is 0.01s (10 milliseconds)\n",
    "numcep \t          the number of cepstrum to return, default 13\n",
    "nfilt \t          the number of filters in the filterbank, default 26.\n",
    "nfft \t          the FFT size. Default is 512\n",
    "lowfreq \t      lowest band edge of mel filters. In Hz, default is 0\n",
    "highfreq \t      highest band edge of mel filters. In Hz, default is samplerate/2\\\\\n",
    "preemph \t      apply preemphasis filter with preemph as coefficient. 0 is no filter. Default is 0.97\\\\\n",
    "ceplifter \t      apply a lifter to final cepstral coefficients. 0 is no lifter. Default is 22\\\\\n",
    "appendEnergy \t  if this is true, the zeroth cepstral coefficient is replaced with the log of the total frame energy.\\\\\n",
    "returns \t      A numpy array of size (NUMFRAMES by numcep) containing features. Each row holds 1 feature vector.\\\\\n",
    "\\end{verbatim}"
   ]
  },
  {
   "cell_type": "code",
   "execution_count": 16,
   "metadata": {
    "scrolled": false
   },
   "outputs": [
    {
     "name": "stdout",
     "output_type": "stream",
     "text": [
      "variables/mfccDict[nC=13 wL=0.025 wS=0.01].pkl found\n",
      "variables/mfccDict[nC=15 wL=0.025 wS=0.01].pkl found\n"
     ]
    },
    {
     "data": {
      "image/png": "[encoded data removed]",
      "text/plain": [
       "<matplotlib.figure.Figure at 0x232ff62af28>"
      ]
     },
     "metadata": {},
     "output_type": "display_data"
    }
   ],
   "source": [
    "# list with mfcc parameters in order: [numcep, nfilt, winlen, winstep]\n",
    "values = [[13,26,0.025,0.01],[15,30,0.025,0.01]]\n",
    "with open('variables/mfccValues.pkl', 'wb') as f:  \n",
    "    pickle.dump(values, f)\n",
    "reDo = False\n",
    "toRemove = []\n",
    "\n",
    "plt.figure(2,figsize=(10,3))\n",
    "#look for the already computed mfcc\n",
    "for count, i in enumerate(values):\n",
    "    name = 'variables/mfccDict[nC='+str(i[0])+' wL='+str(i[2])+' wS='+str(i[3])+'].pkl'\n",
    "    if os.path.exists(name) and not reDo:\n",
    "        print(name+' found')\n",
    "        with open(name, 'rb') as f:  \n",
    "            mfccDict = pickle.load(f)\n",
    "        plt.subplot(round(len(values)/2)+1, 2, count+1)\n",
    "        plt.imshow(mfccDict['one'][0], cmap='hot', interpolation='nearest')\n",
    "        toRemove.append(i)\n",
    "#if found the corresponding parameter are deleted \n",
    "for i in toRemove:\n",
    "    values.remove(i)\n",
    "plt.show()  \n",
    "\n",
    "#compute the remaining mfcc with the parameters left\n",
    "for count, i in enumerate(values):\n",
    "    mfccMatDict = {}\n",
    "    print('MFCC features', count+1 , ' of ', len(values))\n",
    "    for key in rawDict:\n",
    "        print('Processing ',key)\n",
    "        array = []\n",
    "        for sig in rawDict[key]:\n",
    "            sig.resize(16000, refcheck=False)\n",
    "            mfcc_feat = mfcc(sig,sampleRate, numcep = i[0], nfilt = i[1], winlen = i[2], winstep = i[3])\n",
    "            array.append(mfcc_feat)\n",
    "        mfccMatDict[key] = np.array(array)\n",
    "    with open('variables/mfccDict[nC='+str(i[0])+' wL='+str(i[2])+' wS='+str(i[3])+'].pkl', 'wb') as f:  \n",
    "        pickle.dump(mfccMatDict, f)"
   ]
  },
  {
   "cell_type": "code",
   "execution_count": null,
   "metadata": {},
   "outputs": [],
   "source": []
  }
 ],
 "metadata": {
  "kernelspec": {
   "display_name": "Python 3",
   "language": "python",
   "name": "python3"
  },
  "language_info": {
   "codemirror_mode": {
    "name": "ipython",
    "version": 3
   },
   "file_extension": ".py",
   "mimetype": "text/x-python",
   "name": "python",
   "nbconvert_exporter": "python",
   "pygments_lexer": "ipython3",
   "version": "3.6.4"
  }
 },
 "nbformat": 4,
 "nbformat_minor": 2
}
